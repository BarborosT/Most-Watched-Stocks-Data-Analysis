{
 "cells": [
  {
   "cell_type": "code",
   "execution_count": 8,
   "metadata": {},
   "outputs": [
    {
     "name": "stdout",
     "output_type": "stream",
     "text": [
      "Pandas version:1.4.0\n",
      "Numpy version:1.22.1\n",
      "Seaborn version:0.12.1\n"
     ]
    }
   ],
   "source": [
    "import pandas as pd\n",
    "import numpy as np\n",
    "import matplotlib.pyplot as plt\n",
    "import plotly.express as px\n",
    "\n",
    "from sklearn.model_selection import train_test_split\n",
    "from sklearn.metrics import r2_score\n",
    "from sklearn.linear_model import LinearRegression\n",
    "import random\n",
    "from sklearn.metrics import mean_squared_error, r2_score, mean_absolute_error\n",
    "import seaborn as sns\n",
    "\n",
    "print(f\"Pandas version:{pd.__version__}\")\n",
    "print(f\"Numpy version:{np.__version__}\")\n",
    "print(f\"Seaborn version:{sns.__version__}\")\n",
    "# It's so important which we use version when analiyzing.\n"
   ]
  },
  {
   "cell_type": "code",
   "execution_count": 9,
   "metadata": {},
   "outputs": [],
   "source": [
    "dataG = pd.read_csv(\"/Users/barborostasdemir/Desktop/Most Watched Stocks of Past Decade(2013-2023)/Data/GOOG(Google).csv\")"
   ]
  },
  {
   "cell_type": "code",
   "execution_count": 10,
   "metadata": {},
   "outputs": [
    {
     "data": {
      "text/html": [
       "<div>\n",
       "<style scoped>\n",
       "    .dataframe tbody tr th:only-of-type {\n",
       "        vertical-align: middle;\n",
       "    }\n",
       "\n",
       "    .dataframe tbody tr th {\n",
       "        vertical-align: top;\n",
       "    }\n",
       "\n",
       "    .dataframe thead th {\n",
       "        text-align: right;\n",
       "    }\n",
       "</style>\n",
       "<table border=\"1\" class=\"dataframe\">\n",
       "  <thead>\n",
       "    <tr style=\"text-align: right;\">\n",
       "      <th></th>\n",
       "      <th>Date</th>\n",
       "      <th>Open</th>\n",
       "      <th>High</th>\n",
       "      <th>Low</th>\n",
       "      <th>Close</th>\n",
       "      <th>Adj Close</th>\n",
       "      <th>Volume</th>\n",
       "    </tr>\n",
       "  </thead>\n",
       "  <tbody>\n",
       "    <tr>\n",
       "      <th>0</th>\n",
       "      <td>2013-01-02</td>\n",
       "      <td>17.918339</td>\n",
       "      <td>18.107130</td>\n",
       "      <td>17.846855</td>\n",
       "      <td>18.013729</td>\n",
       "      <td>18.013729</td>\n",
       "      <td>102033017</td>\n",
       "    </tr>\n",
       "    <tr>\n",
       "      <th>1</th>\n",
       "      <td>2013-01-03</td>\n",
       "      <td>18.055573</td>\n",
       "      <td>18.229919</td>\n",
       "      <td>17.950716</td>\n",
       "      <td>18.024191</td>\n",
       "      <td>18.024191</td>\n",
       "      <td>93075567</td>\n",
       "    </tr>\n",
       "    <tr>\n",
       "      <th>2</th>\n",
       "      <td>2013-01-04</td>\n",
       "      <td>18.165413</td>\n",
       "      <td>18.467529</td>\n",
       "      <td>18.124067</td>\n",
       "      <td>18.380356</td>\n",
       "      <td>18.380356</td>\n",
       "      <td>110954331</td>\n",
       "    </tr>\n",
       "    <tr>\n",
       "      <th>3</th>\n",
       "      <td>2013-01-07</td>\n",
       "      <td>18.317591</td>\n",
       "      <td>18.415474</td>\n",
       "      <td>18.196297</td>\n",
       "      <td>18.300158</td>\n",
       "      <td>18.300158</td>\n",
       "      <td>66476239</td>\n",
       "    </tr>\n",
       "    <tr>\n",
       "      <th>4</th>\n",
       "      <td>2013-01-08</td>\n",
       "      <td>18.319834</td>\n",
       "      <td>18.338762</td>\n",
       "      <td>18.043119</td>\n",
       "      <td>18.264042</td>\n",
       "      <td>18.264042</td>\n",
       "      <td>67295297</td>\n",
       "    </tr>\n",
       "  </tbody>\n",
       "</table>\n",
       "</div>"
      ],
      "text/plain": [
       "         Date       Open       High        Low      Close  Adj Close  \\\n",
       "0  2013-01-02  17.918339  18.107130  17.846855  18.013729  18.013729   \n",
       "1  2013-01-03  18.055573  18.229919  17.950716  18.024191  18.024191   \n",
       "2  2013-01-04  18.165413  18.467529  18.124067  18.380356  18.380356   \n",
       "3  2013-01-07  18.317591  18.415474  18.196297  18.300158  18.300158   \n",
       "4  2013-01-08  18.319834  18.338762  18.043119  18.264042  18.264042   \n",
       "\n",
       "      Volume  \n",
       "0  102033017  \n",
       "1   93075567  \n",
       "2  110954331  \n",
       "3   66476239  \n",
       "4   67295297  "
      ]
     },
     "execution_count": 10,
     "metadata": {},
     "output_type": "execute_result"
    }
   ],
   "source": [
    "dataG.head()"
   ]
  },
  {
   "cell_type": "code",
   "execution_count": 12,
   "metadata": {},
   "outputs": [
    {
     "data": {
      "text/html": [
       "<div>\n",
       "<style scoped>\n",
       "    .dataframe tbody tr th:only-of-type {\n",
       "        vertical-align: middle;\n",
       "    }\n",
       "\n",
       "    .dataframe tbody tr th {\n",
       "        vertical-align: top;\n",
       "    }\n",
       "\n",
       "    .dataframe thead th {\n",
       "        text-align: right;\n",
       "    }\n",
       "</style>\n",
       "<table border=\"1\" class=\"dataframe\">\n",
       "  <thead>\n",
       "    <tr style=\"text-align: right;\">\n",
       "      <th></th>\n",
       "      <th>Date</th>\n",
       "      <th>Open</th>\n",
       "      <th>High</th>\n",
       "      <th>Low</th>\n",
       "      <th>Close</th>\n",
       "      <th>Adj Close</th>\n",
       "      <th>Volume</th>\n",
       "    </tr>\n",
       "  </thead>\n",
       "  <tbody>\n",
       "    <tr>\n",
       "      <th>2513</th>\n",
       "      <td>2022-12-23</td>\n",
       "      <td>87.620003</td>\n",
       "      <td>90.099998</td>\n",
       "      <td>87.620003</td>\n",
       "      <td>89.809998</td>\n",
       "      <td>89.809998</td>\n",
       "      <td>17815000</td>\n",
       "    </tr>\n",
       "    <tr>\n",
       "      <th>2514</th>\n",
       "      <td>2022-12-27</td>\n",
       "      <td>89.309998</td>\n",
       "      <td>89.500000</td>\n",
       "      <td>87.535004</td>\n",
       "      <td>87.930000</td>\n",
       "      <td>87.930000</td>\n",
       "      <td>15470900</td>\n",
       "    </tr>\n",
       "    <tr>\n",
       "      <th>2515</th>\n",
       "      <td>2022-12-28</td>\n",
       "      <td>87.500000</td>\n",
       "      <td>88.519997</td>\n",
       "      <td>86.370003</td>\n",
       "      <td>86.459999</td>\n",
       "      <td>86.459999</td>\n",
       "      <td>17879600</td>\n",
       "    </tr>\n",
       "    <tr>\n",
       "      <th>2516</th>\n",
       "      <td>2022-12-29</td>\n",
       "      <td>87.029999</td>\n",
       "      <td>89.364998</td>\n",
       "      <td>86.989998</td>\n",
       "      <td>88.949997</td>\n",
       "      <td>88.949997</td>\n",
       "      <td>18280700</td>\n",
       "    </tr>\n",
       "    <tr>\n",
       "      <th>2517</th>\n",
       "      <td>2022-12-30</td>\n",
       "      <td>87.364998</td>\n",
       "      <td>88.830002</td>\n",
       "      <td>87.029999</td>\n",
       "      <td>88.730003</td>\n",
       "      <td>88.730003</td>\n",
       "      <td>19179300</td>\n",
       "    </tr>\n",
       "  </tbody>\n",
       "</table>\n",
       "</div>"
      ],
      "text/plain": [
       "            Date       Open       High        Low      Close  Adj Close  \\\n",
       "2513  2022-12-23  87.620003  90.099998  87.620003  89.809998  89.809998   \n",
       "2514  2022-12-27  89.309998  89.500000  87.535004  87.930000  87.930000   \n",
       "2515  2022-12-28  87.500000  88.519997  86.370003  86.459999  86.459999   \n",
       "2516  2022-12-29  87.029999  89.364998  86.989998  88.949997  88.949997   \n",
       "2517  2022-12-30  87.364998  88.830002  87.029999  88.730003  88.730003   \n",
       "\n",
       "        Volume  \n",
       "2513  17815000  \n",
       "2514  15470900  \n",
       "2515  17879600  \n",
       "2516  18280700  \n",
       "2517  19179300  "
      ]
     },
     "execution_count": 12,
     "metadata": {},
     "output_type": "execute_result"
    }
   ],
   "source": [
    "dataG.tail()"
   ]
  },
  {
   "cell_type": "code",
   "execution_count": 13,
   "metadata": {},
   "outputs": [
    {
     "data": {
      "text/html": [
       "<div>\n",
       "<style scoped>\n",
       "    .dataframe tbody tr th:only-of-type {\n",
       "        vertical-align: middle;\n",
       "    }\n",
       "\n",
       "    .dataframe tbody tr th {\n",
       "        vertical-align: top;\n",
       "    }\n",
       "\n",
       "    .dataframe thead th {\n",
       "        text-align: right;\n",
       "    }\n",
       "</style>\n",
       "<table border=\"1\" class=\"dataframe\">\n",
       "  <thead>\n",
       "    <tr style=\"text-align: right;\">\n",
       "      <th></th>\n",
       "      <th>count</th>\n",
       "      <th>mean</th>\n",
       "      <th>std</th>\n",
       "      <th>min</th>\n",
       "      <th>25%</th>\n",
       "      <th>50%</th>\n",
       "      <th>75%</th>\n",
       "      <th>max</th>\n",
       "    </tr>\n",
       "  </thead>\n",
       "  <tbody>\n",
       "    <tr>\n",
       "      <th>Open</th>\n",
       "      <td>2518.0</td>\n",
       "      <td>5.930105e+01</td>\n",
       "      <td>3.517094e+01</td>\n",
       "      <td>17.550716</td>\n",
       "      <td>3.008336e+01</td>\n",
       "      <td>5.138150e+01</td>\n",
       "      <td>7.357050e+01</td>\n",
       "      <td>1.518635e+02</td>\n",
       "    </tr>\n",
       "    <tr>\n",
       "      <th>High</th>\n",
       "      <td>2518.0</td>\n",
       "      <td>5.990521e+01</td>\n",
       "      <td>3.558876e+01</td>\n",
       "      <td>17.567652</td>\n",
       "      <td>3.021755e+01</td>\n",
       "      <td>5.206850e+01</td>\n",
       "      <td>7.446825e+01</td>\n",
       "      <td>1.521000e+02</td>\n",
       "    </tr>\n",
       "    <tr>\n",
       "      <th>Low</th>\n",
       "      <td>2518.0</td>\n",
       "      <td>5.870845e+01</td>\n",
       "      <td>3.476343e+01</td>\n",
       "      <td>17.323069</td>\n",
       "      <td>2.978038e+01</td>\n",
       "      <td>5.084375e+01</td>\n",
       "      <td>7.298288e+01</td>\n",
       "      <td>1.498875e+02</td>\n",
       "    </tr>\n",
       "    <tr>\n",
       "      <th>Close</th>\n",
       "      <td>2518.0</td>\n",
       "      <td>5.931567e+01</td>\n",
       "      <td>3.516936e+01</td>\n",
       "      <td>17.506132</td>\n",
       "      <td>2.998436e+01</td>\n",
       "      <td>5.141950e+01</td>\n",
       "      <td>7.378925e+01</td>\n",
       "      <td>1.507090e+02</td>\n",
       "    </tr>\n",
       "    <tr>\n",
       "      <th>Adj Close</th>\n",
       "      <td>2518.0</td>\n",
       "      <td>5.931567e+01</td>\n",
       "      <td>3.516936e+01</td>\n",
       "      <td>17.506132</td>\n",
       "      <td>2.998436e+01</td>\n",
       "      <td>5.141950e+01</td>\n",
       "      <td>7.378925e+01</td>\n",
       "      <td>1.507090e+02</td>\n",
       "    </tr>\n",
       "    <tr>\n",
       "      <th>Volume</th>\n",
       "      <td>2518.0</td>\n",
       "      <td>3.960689e+07</td>\n",
       "      <td>2.685868e+07</td>\n",
       "      <td>158434.000000</td>\n",
       "      <td>2.432500e+07</td>\n",
       "      <td>3.117500e+07</td>\n",
       "      <td>4.470352e+07</td>\n",
       "      <td>4.643901e+08</td>\n",
       "    </tr>\n",
       "  </tbody>\n",
       "</table>\n",
       "</div>"
      ],
      "text/plain": [
       "            count          mean           std            min           25%  \\\n",
       "Open       2518.0  5.930105e+01  3.517094e+01      17.550716  3.008336e+01   \n",
       "High       2518.0  5.990521e+01  3.558876e+01      17.567652  3.021755e+01   \n",
       "Low        2518.0  5.870845e+01  3.476343e+01      17.323069  2.978038e+01   \n",
       "Close      2518.0  5.931567e+01  3.516936e+01      17.506132  2.998436e+01   \n",
       "Adj Close  2518.0  5.931567e+01  3.516936e+01      17.506132  2.998436e+01   \n",
       "Volume     2518.0  3.960689e+07  2.685868e+07  158434.000000  2.432500e+07   \n",
       "\n",
       "                    50%           75%           max  \n",
       "Open       5.138150e+01  7.357050e+01  1.518635e+02  \n",
       "High       5.206850e+01  7.446825e+01  1.521000e+02  \n",
       "Low        5.084375e+01  7.298288e+01  1.498875e+02  \n",
       "Close      5.141950e+01  7.378925e+01  1.507090e+02  \n",
       "Adj Close  5.141950e+01  7.378925e+01  1.507090e+02  \n",
       "Volume     3.117500e+07  4.470352e+07  4.643901e+08  "
      ]
     },
     "execution_count": 13,
     "metadata": {},
     "output_type": "execute_result"
    }
   ],
   "source": [
    "dataG.describe().T"
   ]
  },
  {
   "cell_type": "code",
   "execution_count": 15,
   "metadata": {},
   "outputs": [
    {
     "name": "stdout",
     "output_type": "stream",
     "text": [
      "<class 'pandas.core.frame.DataFrame'>\n",
      "RangeIndex: 2518 entries, 0 to 2517\n",
      "Data columns (total 7 columns):\n",
      " #   Column     Non-Null Count  Dtype  \n",
      "---  ------     --------------  -----  \n",
      " 0   Date       2518 non-null   object \n",
      " 1   Open       2518 non-null   float64\n",
      " 2   High       2518 non-null   float64\n",
      " 3   Low        2518 non-null   float64\n",
      " 4   Close      2518 non-null   float64\n",
      " 5   Adj Close  2518 non-null   float64\n",
      " 6   Volume     2518 non-null   int64  \n",
      "dtypes: float64(5), int64(1), object(1)\n",
      "memory usage: 137.8+ KB\n"
     ]
    }
   ],
   "source": [
    "dataG.info()"
   ]
  },
  {
   "cell_type": "code",
   "execution_count": 28,
   "metadata": {},
   "outputs": [],
   "source": [
    "dataG.columns = dataG.columns.str.replace(' ', '_')"
   ]
  },
  {
   "cell_type": "code",
   "execution_count": 29,
   "metadata": {},
   "outputs": [
    {
     "data": {
      "text/plain": [
       "49.000000    4\n",
       "39.000000    3\n",
       "67.500000    3\n",
       "35.950001    2\n",
       "55.000000    2\n",
       "            ..\n",
       "35.118000    1\n",
       "35.081001    1\n",
       "35.326500    1\n",
       "35.342999    1\n",
       "87.364998    1\n",
       "Name: Open, Length: 2459, dtype: int64"
      ]
     },
     "execution_count": 29,
     "metadata": {},
     "output_type": "execute_result"
    }
   ],
   "source": [
    "dataG[\"Open\"].value_counts()"
   ]
  },
  {
   "cell_type": "code",
   "execution_count": 30,
   "metadata": {},
   "outputs": [
    {
     "data": {
      "text/plain": [
       "18.013729    2\n",
       "67.178001    2\n",
       "52.030499    2\n",
       "54.752998    2\n",
       "50.918999    2\n",
       "            ..\n",
       "35.645000    1\n",
       "36.159000    1\n",
       "35.764500    1\n",
       "35.665501    1\n",
       "88.730003    1\n",
       "Name: Close, Length: 2493, dtype: int64"
      ]
     },
     "execution_count": 30,
     "metadata": {},
     "output_type": "execute_result"
    }
   ],
   "source": [
    "dataG[\"Close\"].value_counts()"
   ]
  },
  {
   "cell_type": "code",
   "execution_count": 31,
   "metadata": {},
   "outputs": [
    {
     "data": {
      "text/plain": [
       "Date         0\n",
       "Open         0\n",
       "High         0\n",
       "Low          0\n",
       "Close        0\n",
       "Adj_Close    0\n",
       "Volume       0\n",
       "Gain/Loss    0\n",
       "dtype: int64"
      ]
     },
     "execution_count": 31,
     "metadata": {},
     "output_type": "execute_result"
    }
   ],
   "source": [
    "dataG.isnull().sum()"
   ]
  },
  {
   "attachments": {},
   "cell_type": "markdown",
   "metadata": {},
   "source": [
    "* There is no \"Nan\" here"
   ]
  },
  {
   "cell_type": "code",
   "execution_count": 32,
   "metadata": {},
   "outputs": [
    {
     "data": {
      "text/html": [
       "<div>\n",
       "<style scoped>\n",
       "    .dataframe tbody tr th:only-of-type {\n",
       "        vertical-align: middle;\n",
       "    }\n",
       "\n",
       "    .dataframe tbody tr th {\n",
       "        vertical-align: top;\n",
       "    }\n",
       "\n",
       "    .dataframe thead th {\n",
       "        text-align: right;\n",
       "    }\n",
       "</style>\n",
       "<table border=\"1\" class=\"dataframe\">\n",
       "  <thead>\n",
       "    <tr style=\"text-align: right;\">\n",
       "      <th></th>\n",
       "      <th>Date</th>\n",
       "      <th>Open</th>\n",
       "      <th>High</th>\n",
       "      <th>Low</th>\n",
       "      <th>Close</th>\n",
       "    </tr>\n",
       "  </thead>\n",
       "  <tbody>\n",
       "    <tr>\n",
       "      <th>0</th>\n",
       "      <td>2013-01-02</td>\n",
       "      <td>17.918339</td>\n",
       "      <td>18.107130</td>\n",
       "      <td>17.846855</td>\n",
       "      <td>18.013729</td>\n",
       "    </tr>\n",
       "    <tr>\n",
       "      <th>1</th>\n",
       "      <td>2013-01-03</td>\n",
       "      <td>18.055573</td>\n",
       "      <td>18.229919</td>\n",
       "      <td>17.950716</td>\n",
       "      <td>18.024191</td>\n",
       "    </tr>\n",
       "    <tr>\n",
       "      <th>2</th>\n",
       "      <td>2013-01-04</td>\n",
       "      <td>18.165413</td>\n",
       "      <td>18.467529</td>\n",
       "      <td>18.124067</td>\n",
       "      <td>18.380356</td>\n",
       "    </tr>\n",
       "    <tr>\n",
       "      <th>3</th>\n",
       "      <td>2013-01-07</td>\n",
       "      <td>18.317591</td>\n",
       "      <td>18.415474</td>\n",
       "      <td>18.196297</td>\n",
       "      <td>18.300158</td>\n",
       "    </tr>\n",
       "    <tr>\n",
       "      <th>4</th>\n",
       "      <td>2013-01-08</td>\n",
       "      <td>18.319834</td>\n",
       "      <td>18.338762</td>\n",
       "      <td>18.043119</td>\n",
       "      <td>18.264042</td>\n",
       "    </tr>\n",
       "    <tr>\n",
       "      <th>5</th>\n",
       "      <td>2013-01-09</td>\n",
       "      <td>18.238388</td>\n",
       "      <td>18.389820</td>\n",
       "      <td>18.146980</td>\n",
       "      <td>18.384092</td>\n",
       "    </tr>\n",
       "    <tr>\n",
       "      <th>6</th>\n",
       "      <td>2013-01-10</td>\n",
       "      <td>18.501402</td>\n",
       "      <td>18.555450</td>\n",
       "      <td>18.269024</td>\n",
       "      <td>18.467777</td>\n",
       "    </tr>\n",
       "    <tr>\n",
       "      <th>7</th>\n",
       "      <td>2013-01-11</td>\n",
       "      <td>18.480730</td>\n",
       "      <td>18.491440</td>\n",
       "      <td>18.338762</td>\n",
       "      <td>18.430668</td>\n",
       "    </tr>\n",
       "    <tr>\n",
       "      <th>8</th>\n",
       "      <td>2013-01-14</td>\n",
       "      <td>18.356195</td>\n",
       "      <td>18.485710</td>\n",
       "      <td>17.991314</td>\n",
       "      <td>18.013729</td>\n",
       "    </tr>\n",
       "    <tr>\n",
       "      <th>9</th>\n",
       "      <td>2013-01-15</td>\n",
       "      <td>17.916096</td>\n",
       "      <td>18.306383</td>\n",
       "      <td>17.736021</td>\n",
       "      <td>18.055573</td>\n",
       "    </tr>\n",
       "    <tr>\n",
       "      <th>10</th>\n",
       "      <td>2013-01-16</td>\n",
       "      <td>17.992559</td>\n",
       "      <td>18.040878</td>\n",
       "      <td>17.775124</td>\n",
       "      <td>17.812983</td>\n",
       "    </tr>\n",
       "    <tr>\n",
       "      <th>11</th>\n",
       "      <td>2013-01-17</td>\n",
       "      <td>17.875748</td>\n",
       "      <td>17.923817</td>\n",
       "      <td>17.709122</td>\n",
       "      <td>17.716595</td>\n",
       "    </tr>\n",
       "    <tr>\n",
       "      <th>12</th>\n",
       "      <td>2013-01-18</td>\n",
       "      <td>17.692682</td>\n",
       "      <td>17.752708</td>\n",
       "      <td>17.467775</td>\n",
       "      <td>17.546980</td>\n",
       "    </tr>\n",
       "    <tr>\n",
       "      <th>13</th>\n",
       "      <td>2013-01-22</td>\n",
       "      <td>17.550716</td>\n",
       "      <td>17.567652</td>\n",
       "      <td>17.323069</td>\n",
       "      <td>17.506132</td>\n",
       "    </tr>\n",
       "    <tr>\n",
       "      <th>14</th>\n",
       "      <td>2013-01-23</td>\n",
       "      <td>18.331041</td>\n",
       "      <td>18.655075</td>\n",
       "      <td>18.326059</td>\n",
       "      <td>18.468275</td>\n",
       "    </tr>\n",
       "  </tbody>\n",
       "</table>\n",
       "</div>"
      ],
      "text/plain": [
       "         Date       Open       High        Low      Close\n",
       "0  2013-01-02  17.918339  18.107130  17.846855  18.013729\n",
       "1  2013-01-03  18.055573  18.229919  17.950716  18.024191\n",
       "2  2013-01-04  18.165413  18.467529  18.124067  18.380356\n",
       "3  2013-01-07  18.317591  18.415474  18.196297  18.300158\n",
       "4  2013-01-08  18.319834  18.338762  18.043119  18.264042\n",
       "5  2013-01-09  18.238388  18.389820  18.146980  18.384092\n",
       "6  2013-01-10  18.501402  18.555450  18.269024  18.467777\n",
       "7  2013-01-11  18.480730  18.491440  18.338762  18.430668\n",
       "8  2013-01-14  18.356195  18.485710  17.991314  18.013729\n",
       "9  2013-01-15  17.916096  18.306383  17.736021  18.055573\n",
       "10 2013-01-16  17.992559  18.040878  17.775124  17.812983\n",
       "11 2013-01-17  17.875748  17.923817  17.709122  17.716595\n",
       "12 2013-01-18  17.692682  17.752708  17.467775  17.546980\n",
       "13 2013-01-22  17.550716  17.567652  17.323069  17.506132\n",
       "14 2013-01-23  18.331041  18.655075  18.326059  18.468275"
      ]
     },
     "execution_count": 32,
     "metadata": {},
     "output_type": "execute_result"
    }
   ],
   "source": [
    "dataG.iloc[:15,:5]\n",
    "# If all we need are the values for \"date,open,high,low,close,\" we must use this code."
   ]
  },
  {
   "cell_type": "code",
   "execution_count": 33,
   "metadata": {},
   "outputs": [
    {
     "data": {
      "text/plain": [
       "Date         datetime64[ns]\n",
       "Open                float64\n",
       "High                float64\n",
       "Low                 float64\n",
       "Close               float64\n",
       "Adj_Close           float64\n",
       "Volume                int64\n",
       "Gain/Loss           float64\n",
       "dtype: object"
      ]
     },
     "execution_count": 33,
     "metadata": {},
     "output_type": "execute_result"
    }
   ],
   "source": [
    "dataG.dtypes"
   ]
  },
  {
   "cell_type": "code",
   "execution_count": 34,
   "metadata": {},
   "outputs": [],
   "source": [
    "dataG['Date'] = pd.to_datetime(dataG['Date'])"
   ]
  },
  {
   "cell_type": "code",
   "execution_count": 35,
   "metadata": {},
   "outputs": [
    {
     "data": {
      "text/plain": [
       "Date         datetime64[ns]\n",
       "Open                float64\n",
       "High                float64\n",
       "Low                 float64\n",
       "Close               float64\n",
       "Adj_Close           float64\n",
       "Volume                int64\n",
       "Gain/Loss           float64\n",
       "dtype: object"
      ]
     },
     "execution_count": 35,
     "metadata": {},
     "output_type": "execute_result"
    }
   ],
   "source": [
    "dataG.dtypes"
   ]
  },
  {
   "attachments": {},
   "cell_type": "markdown",
   "metadata": {},
   "source": [
    "* lets look date type"
   ]
  },
  {
   "attachments": {},
   "cell_type": "markdown",
   "metadata": {},
   "source": [
    "A profit and loss statement is a type of financial report that details how much money your company has made and spent over a certain period of time."
   ]
  },
  {
   "cell_type": "code",
   "execution_count": 36,
   "metadata": {},
   "outputs": [],
   "source": [
    "dataG['Gain/Loss'] = dataG['Open'] - dataG['Close']"
   ]
  },
  {
   "cell_type": "code",
   "execution_count": 37,
   "metadata": {},
   "outputs": [
    {
     "data": {
      "text/html": [
       "<div>\n",
       "<style scoped>\n",
       "    .dataframe tbody tr th:only-of-type {\n",
       "        vertical-align: middle;\n",
       "    }\n",
       "\n",
       "    .dataframe tbody tr th {\n",
       "        vertical-align: top;\n",
       "    }\n",
       "\n",
       "    .dataframe thead th {\n",
       "        text-align: right;\n",
       "    }\n",
       "</style>\n",
       "<table border=\"1\" class=\"dataframe\">\n",
       "  <thead>\n",
       "    <tr style=\"text-align: right;\">\n",
       "      <th></th>\n",
       "      <th>Date</th>\n",
       "      <th>Open</th>\n",
       "      <th>High</th>\n",
       "      <th>Low</th>\n",
       "      <th>Close</th>\n",
       "      <th>Adj_Close</th>\n",
       "      <th>Volume</th>\n",
       "      <th>Gain/Loss</th>\n",
       "    </tr>\n",
       "  </thead>\n",
       "  <tbody>\n",
       "    <tr>\n",
       "      <th>0</th>\n",
       "      <td>2013-01-02</td>\n",
       "      <td>17.918339</td>\n",
       "      <td>18.107130</td>\n",
       "      <td>17.846855</td>\n",
       "      <td>18.013729</td>\n",
       "      <td>18.013729</td>\n",
       "      <td>102033017</td>\n",
       "      <td>-0.095390</td>\n",
       "    </tr>\n",
       "    <tr>\n",
       "      <th>1</th>\n",
       "      <td>2013-01-03</td>\n",
       "      <td>18.055573</td>\n",
       "      <td>18.229919</td>\n",
       "      <td>17.950716</td>\n",
       "      <td>18.024191</td>\n",
       "      <td>18.024191</td>\n",
       "      <td>93075567</td>\n",
       "      <td>0.031382</td>\n",
       "    </tr>\n",
       "    <tr>\n",
       "      <th>2</th>\n",
       "      <td>2013-01-04</td>\n",
       "      <td>18.165413</td>\n",
       "      <td>18.467529</td>\n",
       "      <td>18.124067</td>\n",
       "      <td>18.380356</td>\n",
       "      <td>18.380356</td>\n",
       "      <td>110954331</td>\n",
       "      <td>-0.214943</td>\n",
       "    </tr>\n",
       "    <tr>\n",
       "      <th>3</th>\n",
       "      <td>2013-01-07</td>\n",
       "      <td>18.317591</td>\n",
       "      <td>18.415474</td>\n",
       "      <td>18.196297</td>\n",
       "      <td>18.300158</td>\n",
       "      <td>18.300158</td>\n",
       "      <td>66476239</td>\n",
       "      <td>0.017433</td>\n",
       "    </tr>\n",
       "  </tbody>\n",
       "</table>\n",
       "</div>"
      ],
      "text/plain": [
       "        Date       Open       High        Low      Close  Adj_Close  \\\n",
       "0 2013-01-02  17.918339  18.107130  17.846855  18.013729  18.013729   \n",
       "1 2013-01-03  18.055573  18.229919  17.950716  18.024191  18.024191   \n",
       "2 2013-01-04  18.165413  18.467529  18.124067  18.380356  18.380356   \n",
       "3 2013-01-07  18.317591  18.415474  18.196297  18.300158  18.300158   \n",
       "\n",
       "      Volume  Gain/Loss  \n",
       "0  102033017  -0.095390  \n",
       "1   93075567   0.031382  \n",
       "2  110954331  -0.214943  \n",
       "3   66476239   0.017433  "
      ]
     },
     "execution_count": 37,
     "metadata": {},
     "output_type": "execute_result"
    }
   ],
   "source": [
    "dataG.head(4)"
   ]
  },
  {
   "attachments": {},
   "cell_type": "markdown",
   "metadata": {},
   "source": [
    "* By subtracting the closing from the opening, we find out which day the apple company entered a loss - by taking a value"
   ]
  },
  {
   "cell_type": "code",
   "execution_count": 38,
   "metadata": {},
   "outputs": [
    {
     "data": {
      "image/png": "[encoded data removed]",
      "text/plain": [
       "<Figure size 432x288 with 1 Axes>"
      ]
     },
     "metadata": {},
     "output_type": "display_data"
    }
   ],
   "source": [
    "sns.set_theme(style='whitegrid', palette = 'muted')\n",
    "sns.scatterplot(data=dataG, x = 'Open', y ='Close'); "
   ]
  },
  {
   "cell_type": "code",
   "execution_count": 52,
   "metadata": {},
   "outputs": [
    {
     "data": {
      "image/png": "[encoded data removed]",
      "text/html": [
       "<div style=\"vertical-align: middle;\"><strong>rocket</strong> </div><div class=\"cmap\"><img alt=\"rocket colormap\" title=\"rocket\" style=\"border: 1px solid #555;\" src=\"data:image/png;base64,iVBORw0KGgoAAAANSUhEUgAAAgAAAABACAYAAABsv8+/AAAAFXRFWHRUaXRsZQByb2NrZXQgY29sb3JtYXCDKv+2AAAAG3RFWHREZXNjcmlwdGlvbgByb2NrZXQgY29sb3JtYXDKvedSAAAAMHRFWHRBdXRob3IATWF0cGxvdGxpYiB2My41LjEsIGh0dHBzOi8vbWF0cGxvdGxpYi5vcmf3t87PAAAAMnRFWHRTb2Z0d2FyZQBNYXRwbG90bGliIHYzLjUuMSwgaHR0cHM6Ly9tYXRwbG90bGliLm9yZ9kRUegAAAITSURBVHic7dZLVuwgAEVRoJyE8x8odpJyBUIR7d69Oy7+8fkap7av715KKbXWUkoptRw/j3HbzZ/jzblx/2p+uqdszv13/PSd1b7h3tX87z3l2fcc+9rTe8Zz0/eUj+P5vsX++tfzx3xfzK/2L+8/5ntZnBvu6+N943fdz+/Otd7v16dz/fN90z19+H1W8/3zfL3fd/z5Sqv9fv85Xzfz7XrfPD+sj/Nt+I7Feh3faffrZbl+/MMs58dxvY7f99Zh/3X8e65exrv55fr7D9UW+9qj/ee4btZ358/1+l5fnfvv/Ord1b7rzzrt273zenb/9v37e+bvefre65jevf/03fv94/3nf2MAIIgAAIBAAgAAAgkAAAgkAAAgkAAAgEACAAACCQAACCQAACCQAACAQAIAAAIJAAAIJAAAIJAAAIBAAgAAAgkAAAgkAAAgkAAAgEACAAACCQAACCQAACCQAACAQAIAAAIJAAAIJAAAIJAAAIBAAgAAAgkAAAgkAAAgkAAAgEACAAACCQAACCQAACCQAACAQAIAAAIJAAAIJAAAIJAAAIBAAgAAAgkAAAgkAAAgkAAAgEACAAACCQAACCQAACCQAACAQAIAAAIJAAAIJAAAIJAAAIBAAgAAAgkAAAgkAAAgkAAAgEACAAACCQAACCQAACCQAACAQAIAAAIJAAAIJAAAIJAAAIBAAgAAAv0AU3UrP5ppht0AAAAASUVORK5CYII=\"></div><div style=\"vertical-align: middle; max-width: 514px; display: flex; justify-content: space-between;\"><div style=\"float: left;\"><div title=\"#03051aff\" style=\"display: inline-block; width: 1em; height: 1em; margin: 0; vertical-align: middle; border: 1px solid #555; background-color: #03051aff;\"></div> under</div><div style=\"margin: 0 auto; display: inline-block;\">bad <div title=\"#00000000\" style=\"display: inline-block; width: 1em; height: 1em; margin: 0; vertical-align: middle; border: 1px solid #555; background-color: #00000000;\"></div></div><div style=\"float: right;\">over <div title=\"#faebddff\" style=\"display: inline-block; width: 1em; height: 1em; margin: 0; vertical-align: middle; border: 1px solid #555; background-color: #faebddff;\"></div></div>"
      ],
      "text/plain": [
       "<matplotlib.colors.ListedColormap at 0x7febf69968e0>"
      ]
     },
     "execution_count": 52,
     "metadata": {},
     "output_type": "execute_result"
    },
    {
     "data": {
      "image/png": "[encoded data removed]",
      "text/plain": [
       "<Figure size 432x288 with 1 Axes>"
      ]
     },
     "metadata": {},
     "output_type": "display_data"
    }
   ],
   "source": [
    "sns.set_theme(style='darkgrid', palette = 'rocket')\n",
    "sns.scatterplot(data=dataG, x = 'Adj_Close', y ='Gain/Loss'); \n",
    "sns.color_palette(\"rocket\", as_cmap=True)"
   ]
  },
  {
   "attachments": {},
   "cell_type": "markdown",
   "metadata": {},
   "source": [
    "## The percentage of actual closing value to average closing value"
   ]
  },
  {
   "cell_type": "code",
   "execution_count": 66,
   "metadata": {},
   "outputs": [
    {
     "data": {
      "text/plain": [
       "Text(0, 0.5, 'The percentage of actual closing value to average closing value')"
      ]
     },
     "execution_count": 66,
     "metadata": {},
     "output_type": "execute_result"
    },
    {
     "data": {
      "image/png": "[encoded data removed]",
      "text/plain": [
       "<Figure size 432x288 with 1 Axes>"
      ]
     },
     "metadata": {},
     "output_type": "display_data"
    }
   ],
   "source": [
    "plt.Figure(figsize=(15,8))\n",
    "plt.plot(dataG.Date, dataG.Adj_Close,color='red');\n",
    "plt.plot(dataG.Date, dataG.Close, color = 'green');\n",
    "\n",
    "plt.xlabel('Date')\n",
    "plt.ylabel('The percentage of actual closing value to average closing value')"
   ]
  },
  {
   "attachments": {},
   "cell_type": "markdown",
   "metadata": {},
   "source": [
    "- Almost same"
   ]
  },
  {
   "attachments": {},
   "cell_type": "markdown",
   "metadata": {},
   "source": [
    "- In other words, the closing values of the average stock market are the same as the closing"
   ]
  },
  {
   "attachments": {},
   "cell_type": "markdown",
   "metadata": {},
   "source": [
    "## How many sales were necessary to cover the loss?"
   ]
  },
  {
   "cell_type": "code",
   "execution_count": 61,
   "metadata": {},
   "outputs": [
    {
     "data": {
      "text/plain": [
       "Text(0, 0.5, 'loss status with average capture')"
      ]
     },
     "execution_count": 61,
     "metadata": {},
     "output_type": "execute_result"
    },
    {
     "data": {
      "image/png": "[encoded data removed]",
      "text/plain": [
       "<Figure size 432x288 with 1 Axes>"
      ]
     },
     "metadata": {},
     "output_type": "display_data"
    }
   ],
   "source": [
    "plt.Figure(figsize=(12,6))\n",
    "plt.plot(dataG.Date, dataG[\"Gain/Loss\"],color='red');\n",
    "plt.plot(dataG.Date, dataG.Volume, color = 'green');\n",
    "\n",
    "plt.xlabel('Date')\n",
    "plt.ylabel('loss status with average capture')"
   ]
  },
  {
   "attachments": {},
   "cell_type": "markdown",
   "metadata": {},
   "source": [
    "## Let's find out how many şs the 5-day  average"
   ]
  },
  {
   "cell_type": "code",
   "execution_count": 70,
   "metadata": {},
   "outputs": [],
   "source": [
    "dataG['AdjM5'] = dataG['Adj_Close'].rolling(5, min_periods=1).mean()"
   ]
  },
  {
   "cell_type": "code",
   "execution_count": 71,
   "metadata": {},
   "outputs": [
    {
     "data": {
      "text/html": [
       "<div>\n",
       "<style scoped>\n",
       "    .dataframe tbody tr th:only-of-type {\n",
       "        vertical-align: middle;\n",
       "    }\n",
       "\n",
       "    .dataframe tbody tr th {\n",
       "        vertical-align: top;\n",
       "    }\n",
       "\n",
       "    .dataframe thead th {\n",
       "        text-align: right;\n",
       "    }\n",
       "</style>\n",
       "<table border=\"1\" class=\"dataframe\">\n",
       "  <thead>\n",
       "    <tr style=\"text-align: right;\">\n",
       "      <th></th>\n",
       "      <th>Date</th>\n",
       "      <th>Open</th>\n",
       "      <th>High</th>\n",
       "      <th>Low</th>\n",
       "      <th>Close</th>\n",
       "      <th>Adj_Close</th>\n",
       "      <th>Volume</th>\n",
       "      <th>Gain/Loss</th>\n",
       "      <th>AdjM5</th>\n",
       "    </tr>\n",
       "  </thead>\n",
       "  <tbody>\n",
       "    <tr>\n",
       "      <th>0</th>\n",
       "      <td>2013-01-02</td>\n",
       "      <td>17.918339</td>\n",
       "      <td>18.107130</td>\n",
       "      <td>17.846855</td>\n",
       "      <td>18.013729</td>\n",
       "      <td>18.013729</td>\n",
       "      <td>102033017</td>\n",
       "      <td>-0.095390</td>\n",
       "      <td>18.013729</td>\n",
       "    </tr>\n",
       "    <tr>\n",
       "      <th>1</th>\n",
       "      <td>2013-01-03</td>\n",
       "      <td>18.055573</td>\n",
       "      <td>18.229919</td>\n",
       "      <td>17.950716</td>\n",
       "      <td>18.024191</td>\n",
       "      <td>18.024191</td>\n",
       "      <td>93075567</td>\n",
       "      <td>0.031382</td>\n",
       "      <td>18.018960</td>\n",
       "    </tr>\n",
       "    <tr>\n",
       "      <th>2</th>\n",
       "      <td>2013-01-04</td>\n",
       "      <td>18.165413</td>\n",
       "      <td>18.467529</td>\n",
       "      <td>18.124067</td>\n",
       "      <td>18.380356</td>\n",
       "      <td>18.380356</td>\n",
       "      <td>110954331</td>\n",
       "      <td>-0.214943</td>\n",
       "      <td>18.139425</td>\n",
       "    </tr>\n",
       "  </tbody>\n",
       "</table>\n",
       "</div>"
      ],
      "text/plain": [
       "        Date       Open       High        Low      Close  Adj_Close  \\\n",
       "0 2013-01-02  17.918339  18.107130  17.846855  18.013729  18.013729   \n",
       "1 2013-01-03  18.055573  18.229919  17.950716  18.024191  18.024191   \n",
       "2 2013-01-04  18.165413  18.467529  18.124067  18.380356  18.380356   \n",
       "\n",
       "      Volume  Gain/Loss      AdjM5  \n",
       "0  102033017  -0.095390  18.013729  \n",
       "1   93075567   0.031382  18.018960  \n",
       "2  110954331  -0.214943  18.139425  "
      ]
     },
     "execution_count": 71,
     "metadata": {},
     "output_type": "execute_result"
    }
   ],
   "source": [
    "dataG.head(3)"
   ]
  },
  {
   "cell_type": "code",
   "execution_count": 73,
   "metadata": {},
   "outputs": [
    {
     "data": {
      "image/png": "[encoded data removed]",
      "text/plain": [
       "<Figure size 432x288 with 1 Axes>"
      ]
     },
     "metadata": {},
     "output_type": "display_data"
    }
   ],
   "source": [
    "# we select what we require\n",
    "plt.plot(dataG['Date'],dataG['AdjM5'])\n",
    "plt.title('Stock Prices')\n",
    "#we adjust the values of x and y\n",
    "plt.xlabel('Data')\n",
    "plt.ylabel('Ma5'),;"
   ]
  },
  {
   "attachments": {},
   "cell_type": "markdown",
   "metadata": {},
   "source": [
    "### We check the data with train test"
   ]
  },
  {
   "cell_type": "code",
   "execution_count": 76,
   "metadata": {},
   "outputs": [],
   "source": [
    "X_train,X_test,y_train, y_test = train_test_split(dataG[['Adj_Close']],dataG[['AdjM5']], test_size=0.25)\n",
    "# The size of the split can be specified via the “test_size” argument that takes a number of rows (integer) or a percentage (float) of the size of the dataset between 0 and 1.\n"
   ]
  },
  {
   "cell_type": "code",
   "execution_count": 78,
   "metadata": {},
   "outputs": [],
   "source": [
    "reg = LinearRegression()"
   ]
  },
  {
   "cell_type": "code",
   "execution_count": 80,
   "metadata": {},
   "outputs": [
    {
     "data": {
      "text/html": [
       "<style>#sk-container-id-1 {color: black;background-color: white;}#sk-container-id-1 pre{padding: 0;}#sk-container-id-1 div.sk-toggleable {background-color: white;}#sk-container-id-1 label.sk-toggleable__label {cursor: pointer;display: block;width: 100%;margin-bottom: 0;padding: 0.3em;box-sizing: border-box;text-align: center;}#sk-container-id-1 label.sk-toggleable__label-arrow:before {content: \"▸\";float: left;margin-right: 0.25em;color: #696969;}#sk-container-id-1 label.sk-toggleable__label-arrow:hover:before {color: black;}#sk-container-id-1 div.sk-estimator:hover label.sk-toggleable__label-arrow:before {color: black;}#sk-container-id-1 div.sk-toggleable__content {max-height: 0;max-width: 0;overflow: hidden;text-align: left;background-color: #f0f8ff;}#sk-container-id-1 div.sk-toggleable__content pre {margin: 0.2em;color: black;border-radius: 0.25em;background-color: #f0f8ff;}#sk-container-id-1 input.sk-toggleable__control:checked~div.sk-toggleable__content {max-height: 200px;max-width: 100%;overflow: auto;}#sk-container-id-1 input.sk-toggleable__control:checked~label.sk-toggleable__label-arrow:before {content: \"▾\";}#sk-container-id-1 div.sk-estimator input.sk-toggleable__control:checked~label.sk-toggleable__label {background-color: #d4ebff;}#sk-container-id-1 div.sk-label input.sk-toggleable__control:checked~label.sk-toggleable__label {background-color: #d4ebff;}#sk-container-id-1 input.sk-hidden--visually {border: 0;clip: rect(1px 1px 1px 1px);clip: rect(1px, 1px, 1px, 1px);height: 1px;margin: -1px;overflow: hidden;padding: 0;position: absolute;width: 1px;}#sk-container-id-1 div.sk-estimator {font-family: monospace;background-color: #f0f8ff;border: 1px dotted black;border-radius: 0.25em;box-sizing: border-box;margin-bottom: 0.5em;}#sk-container-id-1 div.sk-estimator:hover {background-color: #d4ebff;}#sk-container-id-1 div.sk-parallel-item::after {content: \"\";width: 100%;border-bottom: 1px solid gray;flex-grow: 1;}#sk-container-id-1 div.sk-label:hover label.sk-toggleable__label {background-color: #d4ebff;}#sk-container-id-1 div.sk-serial::before {content: \"\";position: absolute;border-left: 1px solid gray;box-sizing: border-box;top: 0;bottom: 0;left: 50%;z-index: 0;}#sk-container-id-1 div.sk-serial {display: flex;flex-direction: column;align-items: center;background-color: white;padding-right: 0.2em;padding-left: 0.2em;position: relative;}#sk-container-id-1 div.sk-item {position: relative;z-index: 1;}#sk-container-id-1 div.sk-parallel {display: flex;align-items: stretch;justify-content: center;background-color: white;position: relative;}#sk-container-id-1 div.sk-item::before, #sk-container-id-1 div.sk-parallel-item::before {content: \"\";position: absolute;border-left: 1px solid gray;box-sizing: border-box;top: 0;bottom: 0;left: 50%;z-index: -1;}#sk-container-id-1 div.sk-parallel-item {display: flex;flex-direction: column;z-index: 1;position: relative;background-color: white;}#sk-container-id-1 div.sk-parallel-item:first-child::after {align-self: flex-end;width: 50%;}#sk-container-id-1 div.sk-parallel-item:last-child::after {align-self: flex-start;width: 50%;}#sk-container-id-1 div.sk-parallel-item:only-child::after {width: 0;}#sk-container-id-1 div.sk-dashed-wrapped {border: 1px dashed gray;margin: 0 0.4em 0.5em 0.4em;box-sizing: border-box;padding-bottom: 0.4em;background-color: white;}#sk-container-id-1 div.sk-label label {font-family: monospace;font-weight: bold;display: inline-block;line-height: 1.2em;}#sk-container-id-1 div.sk-label-container {text-align: center;}#sk-container-id-1 div.sk-container {/* jupyter's `normalize.less` sets `[hidden] { display: none; }` but bootstrap.min.css set `[hidden] { display: none !important; }` so we also need the `!important` here to be able to override the default hidden behavior on the sphinx rendered scikit-learn.org. See: https://github.com/scikit-learn/scikit-learn/issues/21755 */display: inline-block !important;position: relative;}#sk-container-id-1 div.sk-text-repr-fallback {display: none;}</style><div id=\"sk-container-id-1\" class=\"sk-top-container\"><div class=\"sk-text-repr-fallback\"><pre>LinearRegression()</pre><b>In a Jupyter environment, please rerun this cell to show the HTML representation or trust the notebook. <br />On GitHub, the HTML representation is unable to render, please try loading this page with nbviewer.org.</b></div><div class=\"sk-container\" hidden><div class=\"sk-item\"><div class=\"sk-estimator sk-toggleable\"><input class=\"sk-toggleable__control sk-hidden--visually\" id=\"sk-estimator-id-1\" type=\"checkbox\" checked><label for=\"sk-estimator-id-1\" class=\"sk-toggleable__label sk-toggleable__label-arrow\">LinearRegression</label><div class=\"sk-toggleable__content\"><pre>LinearRegression()</pre></div></div></div></div></div>"
      ],
      "text/plain": [
       "LinearRegression()"
      ]
     },
     "execution_count": 80,
     "metadata": {},
     "output_type": "execute_result"
    }
   ],
   "source": [
    "reg.fit(X_train,y_train)"
   ]
  },
  {
   "cell_type": "code",
   "execution_count": 81,
   "metadata": {},
   "outputs": [],
   "source": [
    "preds = reg.predict(X_test)"
   ]
  },
  {
   "cell_type": "code",
   "execution_count": 82,
   "metadata": {},
   "outputs": [
    {
     "name": "stdout",
     "output_type": "stream",
     "text": [
      "Model Coefficiets: [[0.99958085]]\n",
      "Mean Abloute Error: 0.8343017899209231\n",
      "Coefficient of Determination: 0.9986012104375229\n"
     ]
    }
   ],
   "source": [
    "print(\"Model Coefficiets:\", reg.coef_)\n",
    "print(\"Mean Abloute Error:\", mean_absolute_error(y_test, preds))\n",
    "print(\"Coefficient of Determination:\", r2_score(y_test,preds))"
   ]
  },
  {
   "cell_type": "code",
   "execution_count": null,
   "metadata": {},
   "outputs": [],
   "source": []
  }
 ],
 "metadata": {
  "kernelspec": {
   "display_name": "Python 3",
   "language": "python",
   "name": "python3"
  },
  "language_info": {
   "codemirror_mode": {
    "name": "ipython",
    "version": 3
   },
   "file_extension": ".py",
   "mimetype": "text/x-python",
   "name": "python",
   "nbconvert_exporter": "python",
   "pygments_lexer": "ipython3",
   "version": "3.9.10"
  },
  "orig_nbformat": 4,
  "vscode": {
   "interpreter": {
    "hash": "aee8b7b246df8f9039afb4144a1f6fd8d2ca17a180786b69acc140d282b71a49"
   }
  }
 },
 "nbformat": 4,
 "nbformat_minor": 2
}
